{
 "cells": [
  {
   "cell_type": "code",
   "execution_count": 1,
   "metadata": {},
   "outputs": [],
   "source": [
    "import pandas as pd\n",
    "import glob\n",
    "import re"
   ]
  },
  {
   "cell_type": "code",
   "execution_count": 2,
   "metadata": {},
   "outputs": [],
   "source": [
    "meta=pd.read_csv(\"meta.txt\", sep=\"\\t\")"
   ]
  },
  {
   "cell_type": "code",
   "execution_count": null,
   "metadata": {},
   "outputs": [],
   "source": [
    "out=meta[[\"htid\", \"pub_place\", \"title\", \"author\", \"rights_date_used\"]]"
   ]
  },
  {
   "cell_type": "code",
   "execution_count": 59,
   "metadata": {},
   "outputs": [],
   "source": [
    "head=\"ElocutionBooks/*\""
   ]
  },
  {
   "cell_type": "code",
   "execution_count": 61,
   "metadata": {},
   "outputs": [],
   "source": [
    "text=[]\n",
    "for f in glob.glob(head):\n",
    "    with open(f, 'r', encoding=\"utf-8\") as file:\n",
    "        data = file.read().replace('\\n', '')\n",
    "        text.append(data)"
   ]
  },
  {
   "cell_type": "code",
   "execution_count": 118,
   "metadata": {},
   "outputs": [
    {
     "name": "stderr",
     "output_type": "stream",
     "text": [
      "<ipython-input-118-7bf8f31f12d0>:1: SettingWithCopyWarning: \n",
      "A value is trying to be set on a copy of a slice from a DataFrame.\n",
      "Try using .loc[row_indexer,col_indexer] = value instead\n",
      "\n",
      "See the caveats in the documentation: https://pandas.pydata.org/pandas-docs/stable/user_guide/indexing.html#returning-a-view-versus-a-copy\n",
      "  out[\"text\"]=text\n"
     ]
    }
   ],
   "source": [
    "out[\"text\"]=text"
   ]
  },
  {
   "cell_type": "code",
   "execution_count": 130,
   "metadata": {},
   "outputs": [],
   "source": [
    "#keeps only alpha characters, removes hathi formatting, and sets to lowercase\n",
    "def clean(text):\n",
    "    try:\n",
    "        s=text.split(\"Generated at University of Illinois at Urbana-Champaign on\")[1]\n",
    "    except:\n",
    "        s=text\n",
    "    s=re.sub(r'#*#', '', s) #remove page delims\n",
    "    s=re.sub('[^a-zA-Z ]+', '', s) #keep only alphabetical characters\n",
    "    s=' '.join(s.split())\n",
    "    \n",
    "    s=s.lower()\n",
    "    s=s.replace(\"gmt\", \"\")\n",
    "    s=s.replace(\" p \", \"\")\n",
    "    s=s[200:] #remove first 200 characters, boilerplace, publication, added info etc\n",
    "    return s"
   ]
  },
  {
   "cell_type": "code",
   "execution_count": 131,
   "metadata": {},
   "outputs": [
    {
     "name": "stderr",
     "output_type": "stream",
     "text": [
      "<ipython-input-131-9e5710170f08>:1: SettingWithCopyWarning: \n",
      "A value is trying to be set on a copy of a slice from a DataFrame.\n",
      "Try using .loc[row_indexer,col_indexer] = value instead\n",
      "\n",
      "See the caveats in the documentation: https://pandas.pydata.org/pandas-docs/stable/user_guide/indexing.html#returning-a-view-versus-a-copy\n",
      "  out[\"text\"]=out[\"text\"].apply(clean)\n"
     ]
    }
   ],
   "source": [
    "out[\"text\"]=out[\"text\"].apply(clean)"
   ]
  },
  {
   "cell_type": "code",
   "execution_count": 137,
   "metadata": {},
   "outputs": [
    {
     "name": "stderr",
     "output_type": "stream",
     "text": [
      "C:\\Users\\lucia\\anaconda3\\envs\\mecp2\\lib\\site-packages\\requests\\__init__.py:109: RequestsDependencyWarning: urllib3 (2.0.1) or chardet (3.0.4)/charset_normalizer (3.1.0) doesn't match a supported version!\n",
      "  warnings.warn(\n"
     ]
    }
   ],
   "source": [
    "from internetarchive import get_item, download, search_items"
   ]
  },
  {
   "cell_type": "code",
   "execution_count": 145,
   "metadata": {},
   "outputs": [],
   "source": [
    "search=\"title:\"+\"elocution\""
   ]
  },
  {
   "cell_type": "code",
   "execution_count": 159,
   "metadata": {},
   "outputs": [
    {
     "name": "stdout",
     "output_type": "stream",
     "text": [
      "1855\n",
      "1890\n",
      "0\n",
      "1890\n",
      "0\n",
      "1895\n",
      "0\n",
      "1820\n",
      "1942\n",
      "1873\n",
      "1842\n",
      "1806\n",
      "1853\n",
      "1850\n",
      "1803\n",
      "1903\n",
      "0\n",
      "1979\n",
      "1922\n",
      "1896\n",
      "1898\n",
      "1832\n",
      "1833\n",
      "1830\n",
      "1830\n",
      "1830\n",
      "1890\n",
      "1890\n",
      "1903\n",
      "1903\n",
      "1871\n",
      "1878\n",
      "1865\n",
      "1867\n",
      "1884\n",
      "1838\n",
      "1884\n",
      "0\n",
      "1787\n",
      "1787\n",
      "1886\n",
      "1845\n",
      "1834\n",
      "0\n",
      "1856\n",
      "1834\n",
      "1851\n",
      "1839\n",
      "1850\n",
      "1849\n",
      "1836\n",
      "1834\n",
      "1880\n",
      "1883\n",
      "1959\n",
      "1852\n",
      "1846\n",
      "0\n",
      "1862\n",
      "1867\n",
      "1847\n",
      "1847\n",
      "0\n",
      "1861\n",
      "0\n",
      "0\n",
      "1841\n",
      "1878\n",
      "1841\n",
      "1843\n",
      "1853\n",
      "0\n",
      "1892\n",
      "0\n",
      "1883\n",
      "1791\n",
      "1833\n",
      "1911\n",
      "1820\n",
      "0\n",
      "1867\n",
      "1897\n",
      "1818\n",
      "1872\n",
      "1869\n",
      "1878\n",
      "1876\n",
      "1860\n",
      "1800\n",
      "1900\n",
      "1886\n",
      "0\n",
      "1912\n",
      "1884\n",
      "1880\n",
      "1896\n",
      "1882\n",
      "1885\n",
      "1857\n",
      "1871\n",
      "1803\n",
      "1968\n",
      "1896\n",
      "1893\n",
      "1887\n",
      "1890\n",
      "1890\n",
      "1903\n",
      "1893\n",
      "1883\n",
      "1868\n",
      "1870\n",
      "1871\n",
      "1874\n",
      "1896\n",
      "1899\n",
      "1896\n",
      "1890\n",
      "1878\n",
      "1878\n",
      "1886\n",
      "1888\n",
      "1872\n",
      "1886\n",
      "1881\n",
      "1871\n",
      "1896\n",
      "1881\n",
      "1886\n",
      "1865\n",
      "1897\n"
     ]
    }
   ],
   "source": [
    "ia_books=[]\n",
    "count=0\n",
    "\n",
    "#takes first 100 results of search between 1800 and 1900\n",
    "for i in search_items(search):\n",
    "    if count>100:\n",
    "        break\n",
    "    item = get_item(i[\"identifier\"])\n",
    "    meta=item.item_metadata['metadata']\n",
    "    id=i[\"identifier\"]\n",
    "    try:\n",
    "        date=int(meta[\"date\"])\n",
    "    except:\n",
    "        date=0\n",
    "    title=meta[\"title\"]\n",
    "    try:\n",
    "        author=meta[\"creator\"]\n",
    "    except:\n",
    "        author=\"\"\n",
    "    if date<1900 and date>1800:\n",
    "        count+=1\n",
    "        ia_books.append([id, \"\", title, author, date])\n",
    "        #download(id, verbose=False, glob_pattern='*txt', destdir=\"ia_books/\")\n",
    "    "
   ]
  },
  {
   "cell_type": "code",
   "execution_count": 176,
   "metadata": {},
   "outputs": [],
   "source": [
    "ia=pd.DataFrame(ia_books)"
   ]
  },
  {
   "cell_type": "code",
   "execution_count": 178,
   "metadata": {},
   "outputs": [],
   "source": [
    "ia.columns=[\"htid\", \"pub_place\", \"title\", \"author\", \"rights_date_used\"]"
   ]
  },
  {
   "cell_type": "code",
   "execution_count": 172,
   "metadata": {},
   "outputs": [],
   "source": [
    "text=[]\n",
    "for i in ia[0]:\n",
    "    try:\n",
    "        f=glob.glob(\"ia_books/\"+i+\"/*.txt\")[0]\n",
    "    except:\n",
    "        text.append(\"\")\n",
    "        continue\n",
    "    with open(f, 'r', encoding=\"utf-8\") as file:\n",
    "        data = file.read().replace('\\n', '')\n",
    "        \n",
    "        text.append(clean(data))"
   ]
  },
  {
   "cell_type": "code",
   "execution_count": 179,
   "metadata": {},
   "outputs": [],
   "source": [
    "ia[\"text\"]=text"
   ]
  },
  {
   "cell_type": "code",
   "execution_count": 181,
   "metadata": {},
   "outputs": [],
   "source": [
    "full=out.append(ia)"
   ]
  },
  {
   "cell_type": "code",
   "execution_count": 182,
   "metadata": {},
   "outputs": [],
   "source": [
    "full=full[full['text'].str.len()>500]"
   ]
  },
  {
   "cell_type": "code",
   "execution_count": null,
   "metadata": {},
   "outputs": [],
   "source": [
    "g.drop_duplicates(subset=['brand', 'style'], keep='last')"
   ]
  },
  {
   "cell_type": "code",
   "execution_count": 184,
   "metadata": {},
   "outputs": [],
   "source": [
    "full.to_csv(\"hathi_ia_texts.csv\")"
   ]
  },
  {
   "cell_type": "code",
   "execution_count": 186,
   "metadata": {},
   "outputs": [],
   "source": [
    "out.to_csv(\"hathi_only.csv\")"
   ]
  },
  {
   "cell_type": "code",
   "execution_count": 190,
   "metadata": {},
   "outputs": [
    {
     "data": {
      "text/plain": [
       "A system of elocution, with special reference to gesture, to the treatment of stammering, and defective articulation ..                                                                                                                                          3\n",
       "Advanced elocution;                                                                                                                                                                                                                                              2\n",
       "An Essay on Elocution: With Elucidatory Passages from Various Authors to which are Added Remarks ...                                                                                                                                                             2\n",
       "Public speaking and reading; a treatise on delivery according to the principles of the new elocution                                                                                                                                                             2\n",
       "Clegg's Elocutionist; a text-book on the art of elocution, with a full scheme of vocal exercises, for public speakers, and for the use of schools and elocution classes. Including a wide and choice selection of poetry and prose for reading and recitation    2\n",
       "                                                                                                                                                                                                                                                                ..\n",
       "An Essay on Elocution: With Elucidatory Passages from Various Authors ...                                                                                                                                                                                        1\n",
       "Elocution and stage training.                                                                                                                                                                                                                                    1\n",
       "Elocution: the sources and elements of its power. A textbook for schools and colleges, and a book for every public speaker, and student of the English language                                                                                                  1\n",
       "The charms of elocution : set forth in a choice selection of readings and recitations illustrative of the human affections and sympathies with an introductory essay on the pleasures and advantages of elocution                                                1\n",
       "The sixth progressive reader, or Oratorical class-book: with a treatise on elocution, etc                                                                                                                                                                        1\n",
       "Name: title, Length: 144, dtype: int64"
      ]
     },
     "execution_count": 190,
     "metadata": {},
     "output_type": "execute_result"
    }
   ],
   "source": [
    "full[\"title\"].value_counts()"
   ]
  },
  {
   "cell_type": "code",
   "execution_count": null,
   "metadata": {},
   "outputs": [],
   "source": []
  }
 ],
 "metadata": {
  "kernelspec": {
   "display_name": "Python 3 (ipykernel)",
   "language": "python",
   "name": "python3"
  },
  "language_info": {
   "codemirror_mode": {
    "name": "ipython",
    "version": 3
   },
   "file_extension": ".py",
   "mimetype": "text/x-python",
   "name": "python",
   "nbconvert_exporter": "python",
   "pygments_lexer": "ipython3",
   "version": "3.9.12"
  }
 },
 "nbformat": 4,
 "nbformat_minor": 4
}
